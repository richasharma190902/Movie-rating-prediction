{
  "cells": [
    {
      "cell_type": "markdown",
      "metadata": {
        "colab_type": "text",
        "id": "view-in-github"
      },
      "source": [
        "<a href=\"https://colab.research.google.com/github/ajit2001/codsoft_2/blob/main/Movie_Rating_Prediction.ipynb\" target=\"_parent\"><img src=\"https://colab.research.google.com/assets/colab-badge.svg\" alt=\"Open In Colab\"/></a>"
      ]
    },
    {
      "cell_type": "markdown",
      "metadata": {
        "id": "2WFKWX84swjn"
      },
      "source": [
        "# Movie Rating Prediction"
      ]
    },
    {
      "cell_type": "markdown",
      "metadata": {
        "id": "SwkvGr-xSq-4"
      },
      "source": [
        "Objective\n",
        "\n",
        "* Build a model that predicts the rating of a movie based on\n",
        "features like genre, director, and actors. You can use regression\n",
        "techniques to tackle this problem.\n",
        "\n",
        "* The goal is to analyze historical movie data and develop a model\n",
        "that accurately estimates the rating given to a movie by users or\n",
        "critics.\n",
        "\n",
        "* Movie Rating Prediction project enables you to explore data\n",
        "analysis, preprocessing, feature engineering, and machine\n",
        "learning modeling techniques.\n",
        "\n",
        "* It provides insights into the factors\n",
        "that influence movie ratings and allows you to build a model that\n",
        "can estimate the ratings of movies accurately.\n"
      ]
    },
    {
      "cell_type": "code",
      "execution_count": 1,
      "metadata": {
        "id": "-JHPCFckR8_R"
      },
      "outputs": [],
      "source": [
        "import pandas as pd\n",
        "import numpy as np\n",
        "import random as rnd\n",
        "\n",
        "# visualization\n",
        "import seaborn as sns\n",
        "import matplotlib.pyplot as plt\n",
        "%matplotlib inline\n",
        "\n",
        "# machine learning\n",
        "from sklearn.model_selection import train_test_split\n",
        "from sklearn.linear_model import LogisticRegression\n",
        "from sklearn.svm import SVC, LinearSVC\n",
        "from sklearn.ensemble import RandomForestClassifier\n",
        "from sklearn.neighbors import KNeighborsClassifier\n",
        "from sklearn.naive_bayes import GaussianNB\n",
        "from sklearn.linear_model import Perceptron\n",
        "from sklearn.linear_model import SGDClassifier\n",
        "from sklearn.tree import DecisionTreeClassifier"
      ]
    },
    {
      "cell_type": "code",
      "execution_count": 2,
      "metadata": {
        "colab": {
          "base_uri": "https://localhost:8080/",
          "height": 206
        },
        "id": "Ay8CBj8KTJCg",
        "outputId": "80b27f3d-7cbf-45ec-b1df-f7fee4e22ad7"
      },
      "outputs": [
        {
          "data": {
            "text/html": [
              "<div>\n",
              "<style scoped>\n",
              "    .dataframe tbody tr th:only-of-type {\n",
              "        vertical-align: middle;\n",
              "    }\n",
              "\n",
              "    .dataframe tbody tr th {\n",
              "        vertical-align: top;\n",
              "    }\n",
              "\n",
              "    .dataframe thead th {\n",
              "        text-align: right;\n",
              "    }\n",
              "</style>\n",
              "<table border=\"1\" class=\"dataframe\">\n",
              "  <thead>\n",
              "    <tr style=\"text-align: right;\">\n",
              "      <th></th>\n",
              "      <th>MovieID</th>\n",
              "      <th>Title</th>\n",
              "      <th>Category</th>\n",
              "    </tr>\n",
              "  </thead>\n",
              "  <tbody>\n",
              "    <tr>\n",
              "      <th>0</th>\n",
              "      <td>2</td>\n",
              "      <td>Jumanji (1995)</td>\n",
              "      <td>Adventure|Children's|Fantasy</td>\n",
              "    </tr>\n",
              "    <tr>\n",
              "      <th>1</th>\n",
              "      <td>3</td>\n",
              "      <td>Grumpier Old Men (1995)</td>\n",
              "      <td>Comedy|Romance</td>\n",
              "    </tr>\n",
              "    <tr>\n",
              "      <th>2</th>\n",
              "      <td>4</td>\n",
              "      <td>Waiting to Exhale (1995)</td>\n",
              "      <td>Comedy|Drama</td>\n",
              "    </tr>\n",
              "    <tr>\n",
              "      <th>3</th>\n",
              "      <td>5</td>\n",
              "      <td>Father of the Bride Part II (1995)</td>\n",
              "      <td>Comedy</td>\n",
              "    </tr>\n",
              "    <tr>\n",
              "      <th>4</th>\n",
              "      <td>6</td>\n",
              "      <td>Heat (1995)</td>\n",
              "      <td>Action|Crime|Thriller</td>\n",
              "    </tr>\n",
              "  </tbody>\n",
              "</table>\n",
              "</div>"
            ],
            "text/plain": [
              "   MovieID                               Title                      Category\n",
              "0        2                      Jumanji (1995)  Adventure|Children's|Fantasy\n",
              "1        3             Grumpier Old Men (1995)                Comedy|Romance\n",
              "2        4            Waiting to Exhale (1995)                  Comedy|Drama\n",
              "3        5  Father of the Bride Part II (1995)                        Comedy\n",
              "4        6                         Heat (1995)         Action|Crime|Thriller"
            ]
          },
          "execution_count": 2,
          "metadata": {},
          "output_type": "execute_result"
        }
      ],
      "source": [
        "#Data acquisition of the movies dataset\n",
        "df_movie=pd.read_csv('movies.dat', sep = '::', engine='python', encoding='latin1')\n",
        "df_movie.columns =['MovieID','Title', 'Category']\n",
        "df_movie.dropna(inplace=True)\n",
        "df_movie.head()"
      ]
    },
    {
      "cell_type": "code",
      "execution_count": 3,
      "metadata": {
        "colab": {
          "base_uri": "https://localhost:8080/",
          "height": 206
        },
        "id": "TTcro7t0TYMH",
        "outputId": "72c8aa2f-84d6-4e66-bb20-e4b2726173b1"
      },
      "outputs": [
        {
          "data": {
            "text/html": [
              "<div>\n",
              "<style scoped>\n",
              "    .dataframe tbody tr th:only-of-type {\n",
              "        vertical-align: middle;\n",
              "    }\n",
              "\n",
              "    .dataframe tbody tr th {\n",
              "        vertical-align: top;\n",
              "    }\n",
              "\n",
              "    .dataframe thead th {\n",
              "        text-align: right;\n",
              "    }\n",
              "</style>\n",
              "<table border=\"1\" class=\"dataframe\">\n",
              "  <thead>\n",
              "    <tr style=\"text-align: right;\">\n",
              "      <th></th>\n",
              "      <th>UserID</th>\n",
              "      <th>MovieID</th>\n",
              "      <th>Ratings</th>\n",
              "      <th>TimeStamp</th>\n",
              "    </tr>\n",
              "  </thead>\n",
              "  <tbody>\n",
              "    <tr>\n",
              "      <th>0</th>\n",
              "      <td>1</td>\n",
              "      <td>661</td>\n",
              "      <td>3</td>\n",
              "      <td>978302109</td>\n",
              "    </tr>\n",
              "    <tr>\n",
              "      <th>1</th>\n",
              "      <td>1</td>\n",
              "      <td>914</td>\n",
              "      <td>3</td>\n",
              "      <td>978301968</td>\n",
              "    </tr>\n",
              "    <tr>\n",
              "      <th>2</th>\n",
              "      <td>1</td>\n",
              "      <td>3408</td>\n",
              "      <td>4</td>\n",
              "      <td>978300275</td>\n",
              "    </tr>\n",
              "    <tr>\n",
              "      <th>3</th>\n",
              "      <td>1</td>\n",
              "      <td>2355</td>\n",
              "      <td>5</td>\n",
              "      <td>978824291</td>\n",
              "    </tr>\n",
              "    <tr>\n",
              "      <th>4</th>\n",
              "      <td>1</td>\n",
              "      <td>1197</td>\n",
              "      <td>3</td>\n",
              "      <td>978302268</td>\n",
              "    </tr>\n",
              "  </tbody>\n",
              "</table>\n",
              "</div>"
            ],
            "text/plain": [
              "   UserID  MovieID  Ratings  TimeStamp\n",
              "0       1      661        3  978302109\n",
              "1       1      914        3  978301968\n",
              "2       1     3408        4  978300275\n",
              "3       1     2355        5  978824291\n",
              "4       1     1197        3  978302268"
            ]
          },
          "execution_count": 3,
          "metadata": {},
          "output_type": "execute_result"
        }
      ],
      "source": [
        "#Data acquisition of the rating dataset\n",
        "df_rating = pd.read_csv('ratings.dat', sep = '::', engine='python')\n",
        "# df['TimeStamp'] = pd.to_datetime(unit='s')\n",
        "df_rating.columns =['UserID','MovieID','Ratings','TimeStamp']\n",
        "df_rating.dropna(inplace=True)\n",
        "df_rating.head()"
      ]
    },
    {
      "cell_type": "code",
      "execution_count": 4,
      "metadata": {
        "id": "VsWIxPiUbxt7"
      },
      "outputs": [],
      "source": [
        "# #Data acquisition of the rating dataset\n",
        "# df_rat = pd.read_csv('ratings.dat', sep = '::', engine='python')\n",
        "# df_rat['TimeStamp'] = pd.to_datetime(df_rat['TimeStamp'], unit='D')\n",
        "# df_rat.columns =['ID','MovieID','Ratings','TimeStamp']\n",
        "# df_rat.dropna(inplace=True)\n",
        "# df_rat.head()"
      ]
    },
    {
      "cell_type": "code",
      "execution_count": 5,
      "metadata": {
        "colab": {
          "base_uri": "https://localhost:8080/",
          "height": 206
        },
        "id": "3cACmhroTaSw",
        "outputId": "ccf42ecf-2fd0-4ad7-b303-becc5748b1b6"
      },
      "outputs": [
        {
          "data": {
            "text/html": [
              "<div>\n",
              "<style scoped>\n",
              "    .dataframe tbody tr th:only-of-type {\n",
              "        vertical-align: middle;\n",
              "    }\n",
              "\n",
              "    .dataframe tbody tr th {\n",
              "        vertical-align: top;\n",
              "    }\n",
              "\n",
              "    .dataframe thead th {\n",
              "        text-align: right;\n",
              "    }\n",
              "</style>\n",
              "<table border=\"1\" class=\"dataframe\">\n",
              "  <thead>\n",
              "    <tr style=\"text-align: right;\">\n",
              "      <th></th>\n",
              "      <th>UserID</th>\n",
              "      <th>Gender</th>\n",
              "      <th>Age</th>\n",
              "      <th>Occupation</th>\n",
              "      <th>Zip-code</th>\n",
              "    </tr>\n",
              "  </thead>\n",
              "  <tbody>\n",
              "    <tr>\n",
              "      <th>0</th>\n",
              "      <td>2</td>\n",
              "      <td>M</td>\n",
              "      <td>56</td>\n",
              "      <td>16</td>\n",
              "      <td>70072</td>\n",
              "    </tr>\n",
              "    <tr>\n",
              "      <th>1</th>\n",
              "      <td>3</td>\n",
              "      <td>M</td>\n",
              "      <td>25</td>\n",
              "      <td>15</td>\n",
              "      <td>55117</td>\n",
              "    </tr>\n",
              "    <tr>\n",
              "      <th>2</th>\n",
              "      <td>4</td>\n",
              "      <td>M</td>\n",
              "      <td>45</td>\n",
              "      <td>7</td>\n",
              "      <td>02460</td>\n",
              "    </tr>\n",
              "    <tr>\n",
              "      <th>3</th>\n",
              "      <td>5</td>\n",
              "      <td>M</td>\n",
              "      <td>25</td>\n",
              "      <td>20</td>\n",
              "      <td>55455</td>\n",
              "    </tr>\n",
              "    <tr>\n",
              "      <th>4</th>\n",
              "      <td>6</td>\n",
              "      <td>F</td>\n",
              "      <td>50</td>\n",
              "      <td>9</td>\n",
              "      <td>55117</td>\n",
              "    </tr>\n",
              "  </tbody>\n",
              "</table>\n",
              "</div>"
            ],
            "text/plain": [
              "   UserID Gender  Age  Occupation Zip-code\n",
              "0       2      M   56          16    70072\n",
              "1       3      M   25          15    55117\n",
              "2       4      M   45           7    02460\n",
              "3       5      M   25          20    55455\n",
              "4       6      F   50           9    55117"
            ]
          },
          "execution_count": 5,
          "metadata": {},
          "output_type": "execute_result"
        }
      ],
      "source": [
        "#Data acquisition of the users dataset\n",
        "df_user = pd.read_csv('users.dat', sep = '::', engine='python', encoding='latin1')\n",
        "df_user.columns =['UserID','Gender','Age','Occupation','Zip-code']\n",
        "df_user.dropna(inplace=True)\n",
        "df_user.head()"
      ]
    },
    {
      "cell_type": "code",
      "execution_count": 6,
      "metadata": {
        "colab": {
          "base_uri": "https://localhost:8080/",
          "height": 206
        },
        "id": "Dt4QdgS7TuTJ",
        "outputId": "4606a3e4-d6ef-4b80-c7d7-c2e391f66c4d"
      },
      "outputs": [
        {
          "data": {
            "text/html": [
              "<div>\n",
              "<style scoped>\n",
              "    .dataframe tbody tr th:only-of-type {\n",
              "        vertical-align: middle;\n",
              "    }\n",
              "\n",
              "    .dataframe tbody tr th {\n",
              "        vertical-align: top;\n",
              "    }\n",
              "\n",
              "    .dataframe thead th {\n",
              "        text-align: right;\n",
              "    }\n",
              "</style>\n",
              "<table border=\"1\" class=\"dataframe\">\n",
              "  <thead>\n",
              "    <tr style=\"text-align: right;\">\n",
              "      <th></th>\n",
              "      <th>MovieID</th>\n",
              "      <th>Title</th>\n",
              "      <th>Category</th>\n",
              "      <th>UserID</th>\n",
              "      <th>MovieID</th>\n",
              "      <th>Ratings</th>\n",
              "      <th>TimeStamp</th>\n",
              "      <th>UserID</th>\n",
              "      <th>Gender</th>\n",
              "      <th>Age</th>\n",
              "      <th>Occupation</th>\n",
              "      <th>Zip-code</th>\n",
              "    </tr>\n",
              "  </thead>\n",
              "  <tbody>\n",
              "    <tr>\n",
              "      <th>0</th>\n",
              "      <td>2.0</td>\n",
              "      <td>Jumanji (1995)</td>\n",
              "      <td>Adventure|Children's|Fantasy</td>\n",
              "      <td>1</td>\n",
              "      <td>661</td>\n",
              "      <td>3</td>\n",
              "      <td>978302109</td>\n",
              "      <td>2.0</td>\n",
              "      <td>M</td>\n",
              "      <td>56.0</td>\n",
              "      <td>16.0</td>\n",
              "      <td>70072</td>\n",
              "    </tr>\n",
              "    <tr>\n",
              "      <th>1</th>\n",
              "      <td>3.0</td>\n",
              "      <td>Grumpier Old Men (1995)</td>\n",
              "      <td>Comedy|Romance</td>\n",
              "      <td>1</td>\n",
              "      <td>914</td>\n",
              "      <td>3</td>\n",
              "      <td>978301968</td>\n",
              "      <td>3.0</td>\n",
              "      <td>M</td>\n",
              "      <td>25.0</td>\n",
              "      <td>15.0</td>\n",
              "      <td>55117</td>\n",
              "    </tr>\n",
              "    <tr>\n",
              "      <th>2</th>\n",
              "      <td>4.0</td>\n",
              "      <td>Waiting to Exhale (1995)</td>\n",
              "      <td>Comedy|Drama</td>\n",
              "      <td>1</td>\n",
              "      <td>3408</td>\n",
              "      <td>4</td>\n",
              "      <td>978300275</td>\n",
              "      <td>4.0</td>\n",
              "      <td>M</td>\n",
              "      <td>45.0</td>\n",
              "      <td>7.0</td>\n",
              "      <td>02460</td>\n",
              "    </tr>\n",
              "    <tr>\n",
              "      <th>3</th>\n",
              "      <td>5.0</td>\n",
              "      <td>Father of the Bride Part II (1995)</td>\n",
              "      <td>Comedy</td>\n",
              "      <td>1</td>\n",
              "      <td>2355</td>\n",
              "      <td>5</td>\n",
              "      <td>978824291</td>\n",
              "      <td>5.0</td>\n",
              "      <td>M</td>\n",
              "      <td>25.0</td>\n",
              "      <td>20.0</td>\n",
              "      <td>55455</td>\n",
              "    </tr>\n",
              "    <tr>\n",
              "      <th>4</th>\n",
              "      <td>6.0</td>\n",
              "      <td>Heat (1995)</td>\n",
              "      <td>Action|Crime|Thriller</td>\n",
              "      <td>1</td>\n",
              "      <td>1197</td>\n",
              "      <td>3</td>\n",
              "      <td>978302268</td>\n",
              "      <td>6.0</td>\n",
              "      <td>F</td>\n",
              "      <td>50.0</td>\n",
              "      <td>9.0</td>\n",
              "      <td>55117</td>\n",
              "    </tr>\n",
              "  </tbody>\n",
              "</table>\n",
              "</div>"
            ],
            "text/plain": [
              "   MovieID                               Title                      Category  \\\n",
              "0      2.0                      Jumanji (1995)  Adventure|Children's|Fantasy   \n",
              "1      3.0             Grumpier Old Men (1995)                Comedy|Romance   \n",
              "2      4.0            Waiting to Exhale (1995)                  Comedy|Drama   \n",
              "3      5.0  Father of the Bride Part II (1995)                        Comedy   \n",
              "4      6.0                         Heat (1995)         Action|Crime|Thriller   \n",
              "\n",
              "   UserID  MovieID  Ratings  TimeStamp  UserID Gender   Age  Occupation  \\\n",
              "0       1      661        3  978302109     2.0      M  56.0        16.0   \n",
              "1       1      914        3  978301968     3.0      M  25.0        15.0   \n",
              "2       1     3408        4  978300275     4.0      M  45.0         7.0   \n",
              "3       1     2355        5  978824291     5.0      M  25.0        20.0   \n",
              "4       1     1197        3  978302268     6.0      F  50.0         9.0   \n",
              "\n",
              "  Zip-code  \n",
              "0    70072  \n",
              "1    55117  \n",
              "2    02460  \n",
              "3    55455  \n",
              "4    55117  "
            ]
          },
          "execution_count": 6,
          "metadata": {},
          "output_type": "execute_result"
        }
      ],
      "source": [
        "df = pd.concat([df_movie, df_rating, df_user], axis=1)\n",
        "df.head()"
      ]
    },
    {
      "cell_type": "code",
      "execution_count": 7,
      "metadata": {
        "colab": {
          "base_uri": "https://localhost:8080/",
          "height": 206
        },
        "id": "MPsKgRp9TxJz",
        "outputId": "5273bc43-d6b4-466a-b3e7-0db6ddabc727"
      },
      "outputs": [
        {
          "data": {
            "text/html": [
              "<div>\n",
              "<style scoped>\n",
              "    .dataframe tbody tr th:only-of-type {\n",
              "        vertical-align: middle;\n",
              "    }\n",
              "\n",
              "    .dataframe tbody tr th {\n",
              "        vertical-align: top;\n",
              "    }\n",
              "\n",
              "    .dataframe thead th {\n",
              "        text-align: right;\n",
              "    }\n",
              "</style>\n",
              "<table border=\"1\" class=\"dataframe\">\n",
              "  <thead>\n",
              "    <tr style=\"text-align: right;\">\n",
              "      <th></th>\n",
              "      <th>MovieID</th>\n",
              "      <th>Title</th>\n",
              "      <th>UserID</th>\n",
              "      <th>Age</th>\n",
              "      <th>Gender</th>\n",
              "      <th>Occupation</th>\n",
              "      <th>Ratings</th>\n",
              "    </tr>\n",
              "  </thead>\n",
              "  <tbody>\n",
              "    <tr>\n",
              "      <th>0</th>\n",
              "      <td>1357</td>\n",
              "      <td>Shine (1996)</td>\n",
              "      <td>2</td>\n",
              "      <td>56</td>\n",
              "      <td>M</td>\n",
              "      <td>16</td>\n",
              "      <td>5</td>\n",
              "    </tr>\n",
              "    <tr>\n",
              "      <th>1</th>\n",
              "      <td>3068</td>\n",
              "      <td>Verdict, The (1982)</td>\n",
              "      <td>2</td>\n",
              "      <td>56</td>\n",
              "      <td>M</td>\n",
              "      <td>16</td>\n",
              "      <td>4</td>\n",
              "    </tr>\n",
              "    <tr>\n",
              "      <th>2</th>\n",
              "      <td>1537</td>\n",
              "      <td>Shall We Dance? (Shall We Dansu?) (1996)</td>\n",
              "      <td>2</td>\n",
              "      <td>56</td>\n",
              "      <td>M</td>\n",
              "      <td>16</td>\n",
              "      <td>4</td>\n",
              "    </tr>\n",
              "    <tr>\n",
              "      <th>3</th>\n",
              "      <td>647</td>\n",
              "      <td>Courage Under Fire (1996)</td>\n",
              "      <td>2</td>\n",
              "      <td>56</td>\n",
              "      <td>M</td>\n",
              "      <td>16</td>\n",
              "      <td>3</td>\n",
              "    </tr>\n",
              "    <tr>\n",
              "      <th>4</th>\n",
              "      <td>2194</td>\n",
              "      <td>Untouchables, The (1987)</td>\n",
              "      <td>2</td>\n",
              "      <td>56</td>\n",
              "      <td>M</td>\n",
              "      <td>16</td>\n",
              "      <td>4</td>\n",
              "    </tr>\n",
              "  </tbody>\n",
              "</table>\n",
              "</div>"
            ],
            "text/plain": [
              "   MovieID                                     Title  UserID  Age Gender  \\\n",
              "0     1357                              Shine (1996)       2   56      M   \n",
              "1     3068                       Verdict, The (1982)       2   56      M   \n",
              "2     1537  Shall We Dance? (Shall We Dansu?) (1996)       2   56      M   \n",
              "3      647                 Courage Under Fire (1996)       2   56      M   \n",
              "4     2194                  Untouchables, The (1987)       2   56      M   \n",
              "\n",
              "   Occupation  Ratings  \n",
              "0          16        5  \n",
              "1          16        4  \n",
              "2          16        4  \n",
              "3          16        3  \n",
              "4          16        4  "
            ]
          },
          "execution_count": 7,
          "metadata": {},
          "output_type": "execute_result"
        }
      ],
      "source": [
        "#Merge the ratings and users with movieID and UserID\n",
        "ratings_user = pd.merge(df_rating, df_user, on=['UserID'])\n",
        "ratings_movie = pd.merge(df_rating, df_movie, on=['MovieID'])\n",
        "\n",
        "df_1 = pd.merge(ratings_user, ratings_movie,\n",
        "                       on=['UserID', 'MovieID', 'Ratings'])[['MovieID', 'Title', 'UserID', 'Age', 'Gender', 'Occupation', \"Ratings\"]]\n",
        "\n",
        "df_1.head()"
      ]
    },
    {
      "cell_type": "markdown",
      "metadata": {
        "id": "hgxYsYX5UGXz"
      },
      "source": [
        "# Data Visualisation"
      ]
    },
    {
      "cell_type": "code",
      "execution_count": 8,
      "metadata": {
        "colab": {
          "base_uri": "https://localhost:8080/",
          "height": 830
        },
        "id": "B2m9dVwzUaBO",
        "outputId": "c169ba76-71a2-41d6-8def-abacd835a881"
      },
      "outputs": [
        {
          "data": {
            "image/png": "[encoded data removed]",
            "text/plain": [
              "<Figure size 1000x1000 with 1 Axes>"
            ]
          },
          "metadata": {},
          "output_type": "display_data"
        }
      ],
      "source": [
        "#Visualize user age distribution\n",
        "# import matplotlib.cm as cm\n",
        "# from matplotlib.colors import Normalize\n",
        "\n",
        "# my_cmap = cm.get_cmap('jet')\n",
        "# my_norm = Normalize(vmin=0, vmax=8)\n",
        "df['Age'].value_counts().plot(kind='barh',alpha=0.7,figsize=(10,10))\n",
        "plt.show()"
      ]
    },
    {
      "cell_type": "code",
      "execution_count": 9,
      "metadata": {
        "colab": {
          "base_uri": "https://localhost:8080/",
          "height": 616
        },
        "id": "koZfTd8HUmB6",
        "outputId": "a2d35b2c-3752-4b3c-b9aa-8510f75734a3"
      },
      "outputs": [
        {
          "data": {
            "image/png": "[encoded data removed]",
            "text/plain": [
              "<Figure size 1500x700 with 1 Axes>"
            ]
          },
          "metadata": {},
          "output_type": "display_data"
        }
      ],
      "source": [
        "df['Age'].value_counts().plot(kind='bar', color= ['purple', 'blue'], alpha=0.5, figsize=(15,7))\n",
        "plt.show()"
      ]
    },
    {
      "cell_type": "code",
      "execution_count": 10,
      "metadata": {
        "colab": {
          "base_uri": "https://localhost:8080/",
          "height": 825
        },
        "id": "06my3bjHVuKF",
        "outputId": "42f10089-84aa-475c-a3bd-317bb8351dca"
      },
      "outputs": [
        {
          "data": {
            "image/png": "[encoded data removed]",
            "text/plain": [
              "<Figure size 1000x1000 with 1 Axes>"
            ]
          },
          "metadata": {},
          "output_type": "display_data"
        }
      ],
      "source": [
        "#Visualize overall rating by users\n",
        "df['Ratings'].value_counts().plot(kind='bar', alpha=0.7, figsize=(10,10))\n",
        "plt.show()"
      ]
    },
    {
      "cell_type": "code",
      "execution_count": 11,
      "metadata": {
        "colab": {
          "base_uri": "https://localhost:8080/",
          "height": 489
        },
        "id": "iWg6IIXGVQxz",
        "outputId": "d8fccbcb-04d8-4d4c-8b53-6b48e4527808"
      },
      "outputs": [
        {
          "data": {
            "text/plain": [
              "Text(0.5, 0, 'Age')"
            ]
          },
          "execution_count": 11,
          "metadata": {},
          "output_type": "execute_result"
        },
        {
          "data": {
            "image/png": "[encoded data removed]",
            "text/plain": [
              "<Figure size 640x480 with 1 Axes>"
            ]
          },
          "metadata": {},
          "output_type": "display_data"
        }
      ],
      "source": [
        "df.Age.plot.hist(bins=25)\n",
        "plt.title(\"Distribution of users' ages\")\n",
        "plt.ylabel('count of users')\n",
        "plt.xlabel('Age')"
      ]
    },
    {
      "cell_type": "code",
      "execution_count": 12,
      "metadata": {
        "colab": {
          "base_uri": "https://localhost:8080/",
          "height": 594
        },
        "id": "TlSOA6teVSnx",
        "outputId": "f52ef5eb-aada-4ff5-c573-d6150e3c821f"
      },
      "outputs": [
        {
          "data": {
            "image/png": "[encoded data removed]",
            "text/plain": [
              "<Figure size 1500x700 with 1 Axes>"
            ]
          },
          "metadata": {},
          "output_type": "display_data"
        }
      ],
      "source": [
        "df_1['Ratings'].value_counts().plot(kind='bar', color=['green', 'yellow'], alpha=0.5, figsize=(15,7))\n",
        "plt.show()"
      ]
    },
    {
      "cell_type": "code",
      "execution_count": 13,
      "metadata": {
        "colab": {
          "base_uri": "https://localhost:8080/",
          "height": 269
        },
        "id": "l3ws8g_BVmep",
        "outputId": "a7f4a7d9-4c7b-42e5-8652-c5ea1f0eef51"
      },
      "outputs": [
        {
          "data": {
            "text/html": [
              "<div>\n",
              "<style scoped>\n",
              "    .dataframe tbody tr th:only-of-type {\n",
              "        vertical-align: middle;\n",
              "    }\n",
              "\n",
              "    .dataframe tbody tr th {\n",
              "        vertical-align: top;\n",
              "    }\n",
              "\n",
              "    .dataframe thead th {\n",
              "        text-align: right;\n",
              "    }\n",
              "</style>\n",
              "<table border=\"1\" class=\"dataframe\">\n",
              "  <thead>\n",
              "    <tr style=\"text-align: right;\">\n",
              "      <th></th>\n",
              "      <th>Age</th>\n",
              "      <th>age_group</th>\n",
              "    </tr>\n",
              "  </thead>\n",
              "  <tbody>\n",
              "    <tr>\n",
              "      <th>0</th>\n",
              "      <td>56.0</td>\n",
              "      <td>50-59</td>\n",
              "    </tr>\n",
              "    <tr>\n",
              "      <th>1</th>\n",
              "      <td>25.0</td>\n",
              "      <td>20-29</td>\n",
              "    </tr>\n",
              "    <tr>\n",
              "      <th>2</th>\n",
              "      <td>45.0</td>\n",
              "      <td>40-49</td>\n",
              "    </tr>\n",
              "    <tr>\n",
              "      <th>4</th>\n",
              "      <td>50.0</td>\n",
              "      <td>50-59</td>\n",
              "    </tr>\n",
              "    <tr>\n",
              "      <th>5</th>\n",
              "      <td>35.0</td>\n",
              "      <td>30-39</td>\n",
              "    </tr>\n",
              "    <tr>\n",
              "      <th>16</th>\n",
              "      <td>18.0</td>\n",
              "      <td>10-19</td>\n",
              "    </tr>\n",
              "    <tr>\n",
              "      <th>17</th>\n",
              "      <td>1.0</td>\n",
              "      <td>0-9</td>\n",
              "    </tr>\n",
              "  </tbody>\n",
              "</table>\n",
              "</div>"
            ],
            "text/plain": [
              "     Age age_group\n",
              "0   56.0     50-59\n",
              "1   25.0     20-29\n",
              "2   45.0     40-49\n",
              "4   50.0     50-59\n",
              "5   35.0     30-39\n",
              "16  18.0     10-19\n",
              "17   1.0       0-9"
            ]
          },
          "execution_count": 13,
          "metadata": {},
          "output_type": "execute_result"
        }
      ],
      "source": [
        "labels = ['0-9', '10-19', '20-29', '30-39', '40-49', '50-59', '60-69', '70-79']\n",
        "df['age_group'] = pd.cut(df.Age, range(0, 81, 10), right=False, labels=labels)\n",
        "df[['Age', 'age_group']].drop_duplicates().dropna()[:10]"
      ]
    },
    {
      "cell_type": "code",
      "execution_count": 14,
      "metadata": {
        "id": "zxsVoKRiV6Jo"
      },
      "outputs": [
        {
          "data": {
            "text/html": [
              "<div>\n",
              "<style scoped>\n",
              "    .dataframe tbody tr th:only-of-type {\n",
              "        vertical-align: middle;\n",
              "    }\n",
              "\n",
              "    .dataframe tbody tr th {\n",
              "        vertical-align: top;\n",
              "    }\n",
              "\n",
              "    .dataframe thead th {\n",
              "        text-align: right;\n",
              "    }\n",
              "</style>\n",
              "<table border=\"1\" class=\"dataframe\">\n",
              "  <thead>\n",
              "    <tr style=\"text-align: right;\">\n",
              "      <th></th>\n",
              "      <th>MovieID</th>\n",
              "      <th>Title</th>\n",
              "      <th>UserID</th>\n",
              "      <th>Age</th>\n",
              "      <th>Gender</th>\n",
              "      <th>Occupation</th>\n",
              "      <th>Ratings</th>\n",
              "    </tr>\n",
              "  </thead>\n",
              "  <tbody>\n",
              "    <tr>\n",
              "      <th>0</th>\n",
              "      <td>1357</td>\n",
              "      <td>Shine (1996)</td>\n",
              "      <td>2</td>\n",
              "      <td>56</td>\n",
              "      <td>M</td>\n",
              "      <td>16</td>\n",
              "      <td>5</td>\n",
              "    </tr>\n",
              "    <tr>\n",
              "      <th>1</th>\n",
              "      <td>3068</td>\n",
              "      <td>Verdict, The (1982)</td>\n",
              "      <td>2</td>\n",
              "      <td>56</td>\n",
              "      <td>M</td>\n",
              "      <td>16</td>\n",
              "      <td>4</td>\n",
              "    </tr>\n",
              "    <tr>\n",
              "      <th>2</th>\n",
              "      <td>1537</td>\n",
              "      <td>Shall We Dance? (Shall We Dansu?) (1996)</td>\n",
              "      <td>2</td>\n",
              "      <td>56</td>\n",
              "      <td>M</td>\n",
              "      <td>16</td>\n",
              "      <td>4</td>\n",
              "    </tr>\n",
              "    <tr>\n",
              "      <th>3</th>\n",
              "      <td>647</td>\n",
              "      <td>Courage Under Fire (1996)</td>\n",
              "      <td>2</td>\n",
              "      <td>56</td>\n",
              "      <td>M</td>\n",
              "      <td>16</td>\n",
              "      <td>3</td>\n",
              "    </tr>\n",
              "    <tr>\n",
              "      <th>4</th>\n",
              "      <td>2194</td>\n",
              "      <td>Untouchables, The (1987)</td>\n",
              "      <td>2</td>\n",
              "      <td>56</td>\n",
              "      <td>M</td>\n",
              "      <td>16</td>\n",
              "      <td>4</td>\n",
              "    </tr>\n",
              "    <tr>\n",
              "      <th>...</th>\n",
              "      <td>...</td>\n",
              "      <td>...</td>\n",
              "      <td>...</td>\n",
              "      <td>...</td>\n",
              "      <td>...</td>\n",
              "      <td>...</td>\n",
              "      <td>...</td>\n",
              "    </tr>\n",
              "    <tr>\n",
              "      <th>997740</th>\n",
              "      <td>573</td>\n",
              "      <td>Ciao, Professore! (Io speriamo che me la cavo ...</td>\n",
              "      <td>6040</td>\n",
              "      <td>25</td>\n",
              "      <td>M</td>\n",
              "      <td>6</td>\n",
              "      <td>4</td>\n",
              "    </tr>\n",
              "    <tr>\n",
              "      <th>997741</th>\n",
              "      <td>589</td>\n",
              "      <td>Terminator 2: Judgment Day (1991)</td>\n",
              "      <td>6040</td>\n",
              "      <td>25</td>\n",
              "      <td>M</td>\n",
              "      <td>6</td>\n",
              "      <td>4</td>\n",
              "    </tr>\n",
              "    <tr>\n",
              "      <th>997742</th>\n",
              "      <td>2068</td>\n",
              "      <td>Fanny and Alexander (1982)</td>\n",
              "      <td>6040</td>\n",
              "      <td>25</td>\n",
              "      <td>M</td>\n",
              "      <td>6</td>\n",
              "      <td>4</td>\n",
              "    </tr>\n",
              "    <tr>\n",
              "      <th>997743</th>\n",
              "      <td>592</td>\n",
              "      <td>Batman (1989)</td>\n",
              "      <td>6040</td>\n",
              "      <td>25</td>\n",
              "      <td>M</td>\n",
              "      <td>6</td>\n",
              "      <td>2</td>\n",
              "    </tr>\n",
              "    <tr>\n",
              "      <th>997744</th>\n",
              "      <td>593</td>\n",
              "      <td>Silence of the Lambs, The (1991)</td>\n",
              "      <td>6040</td>\n",
              "      <td>25</td>\n",
              "      <td>M</td>\n",
              "      <td>6</td>\n",
              "      <td>5</td>\n",
              "    </tr>\n",
              "  </tbody>\n",
              "</table>\n",
              "<p>30195 rows × 7 columns</p>\n",
              "</div>"
            ],
            "text/plain": [
              "        MovieID                                              Title  UserID  \\\n",
              "0          1357                                       Shine (1996)       2   \n",
              "1          3068                                Verdict, The (1982)       2   \n",
              "2          1537           Shall We Dance? (Shall We Dansu?) (1996)       2   \n",
              "3           647                          Courage Under Fire (1996)       2   \n",
              "4          2194                           Untouchables, The (1987)       2   \n",
              "...         ...                                                ...     ...   \n",
              "997740      573  Ciao, Professore! (Io speriamo che me la cavo ...    6040   \n",
              "997741      589                  Terminator 2: Judgment Day (1991)    6040   \n",
              "997742     2068                         Fanny and Alexander (1982)    6040   \n",
              "997743      592                                      Batman (1989)    6040   \n",
              "997744      593                   Silence of the Lambs, The (1991)    6040   \n",
              "\n",
              "        Age Gender  Occupation  Ratings  \n",
              "0        56      M          16        5  \n",
              "1        56      M          16        4  \n",
              "2        56      M          16        4  \n",
              "3        56      M          16        3  \n",
              "4        56      M          16        4  \n",
              "...     ...    ...         ...      ...  \n",
              "997740   25      M           6        4  \n",
              "997741   25      M           6        4  \n",
              "997742   25      M           6        4  \n",
              "997743   25      M           6        2  \n",
              "997744   25      M           6        5  \n",
              "\n",
              "[30195 rows x 7 columns]"
            ]
          },
          "execution_count": 14,
          "metadata": {},
          "output_type": "execute_result"
        }
      ],
      "source": [
        "groupedby_movieName = df.groupby('Title')\n",
        "groupedby_rating = df.groupby('Ratings')\n",
        "groupedby_uid = df_1.groupby('UserID')\n",
        "groupedby_uid.head().drop_duplicates()\n",
        "#groupedby_age = df.loc[most_50.index].groupby(['MovieName', 'age_group'])"
      ]
    },
    {
      "cell_type": "code",
      "execution_count": 15,
      "metadata": {
        "colab": {
          "base_uri": "https://localhost:8080/"
        },
        "id": "Rw51TV71V8nB",
        "outputId": "7e9b162f-9a16-443a-c9e7-7dfdc2e24e54"
      },
      "outputs": [
        {
          "name": "stdout",
          "output_type": "stream",
          "text": [
            "Title\n",
            "$1,000,000 Duck (1971)                               1\n",
            "Only Angels Have Wings (1939)                        1\n",
            "Only You (1994)                                      1\n",
            "Open Season (1996)                                   1\n",
            "Open Your Eyes (Abre los ojos) (1997)                1\n",
            "Operation Condor (Feiying gaiwak) (1990)             1\n",
            "Operation Condor 2 (Longxiong hudi) (1990)           1\n",
            "Operation Dumbo Drop (1995)                          1\n",
            "Opportunists, The (1999)                             1\n",
            "Opposite of Sex, The (1998)                          1\n",
            "Ordinary People (1980)                               1\n",
            "Orgazmo (1997)                                       1\n",
            "Original Gangstas (1996)                             1\n",
            "Onegin (1999)                                        1\n",
            "Original Kings of Comedy, The (2000)                 1\n",
            "Oscar and Lucinda (a.k.a. Oscar & Lucinda) (1997)    1\n",
            "Otello (1986)                                        1\n",
            "Othello (1952)                                       1\n",
            "Othello (1995)                                       1\n",
            "Other Side of Sunday, The (Søndagsengler) (1996)     1\n",
            "dtype: int64\n"
          ]
        }
      ],
      "source": [
        "movies = df.groupby('Title').size().sort_values(ascending=True)[:1000]\n",
        "print(movies.head(20))"
      ]
    },
    {
      "cell_type": "code",
      "execution_count": 16,
      "metadata": {
        "colab": {
          "base_uri": "https://localhost:8080/",
          "height": 430
        },
        "id": "S3HKln5iWPey",
        "outputId": "9eb0a6a2-923e-4838-f7b5-5a9572b4249e"
      },
      "outputs": [
        {
          "data": {
            "image/png": "[encoded data removed]",
            "text/plain": [
              "<Figure size 1000x800 with 1 Axes>"
            ]
          },
          "metadata": {},
          "output_type": "display_data"
        }
      ],
      "source": [
        "#Top 25 movies by viewership rating\n",
        "\n",
        "data = {\n",
        "    'Title': ['Movie 1', 'Movie 2', 'Movie 3', ...],  # Replace with actual movie titles\n",
        "    # Other columns\n",
        "}\n",
        "\n",
        "master_data = pd.DataFrame(data)\n",
        "\n",
        "# Calculate viewership count for each movie title\n",
        "res = master_data['Title'].value_counts().sort_values(ascending=False)[:25]\n",
        "\n",
        "plt.figure(figsize=(10, 8))  # Adjust the figure size as needed\n",
        "plt.xlabel(\"Viewership Count\")\n",
        "plt.ylabel(\"Title\")\n",
        "res.plot(kind=\"barh\", color=['lightseagreen', 'turquoise', 'deepskyblue'])\n",
        "plt.title(\"Top 25 Movies by Viewership Rating\")\n",
        "plt.show()"
      ]
    },
    {
      "cell_type": "code",
      "execution_count": 17,
      "metadata": {
        "colab": {
          "base_uri": "https://localhost:8080/"
        },
        "id": "Os98P3bfWCge",
        "outputId": "64b0f8cb-2491-419f-c840-e50798f72261"
      },
      "outputs": [
        {
          "data": {
            "text/plain": [
              "(1, 13)"
            ]
          },
          "execution_count": 17,
          "metadata": {},
          "output_type": "execute_result"
        }
      ],
      "source": [
        "ToyStory_data = groupedby_movieName.get_group('Toy Story 2 (1999)')\n",
        "ToyStory_data.shape"
      ]
    },
    {
      "cell_type": "code",
      "execution_count": 18,
      "metadata": {
        "colab": {
          "base_uri": "https://localhost:8080/",
          "height": 569
        },
        "id": "vrbEvNvnWEjn",
        "outputId": "cd7caa30-d4e2-4cc6-e313-f6882d58384a"
      },
      "outputs": [
        {
          "data": {
            "text/plain": [
              "Age\n",
              "18    34\n",
              "25    72\n",
              "35    29\n",
              "45    12\n",
              "50     4\n",
              "56     7\n",
              "Name: MovieID, dtype: int64"
            ]
          },
          "execution_count": 18,
          "metadata": {},
          "output_type": "execute_result"
        },
        {
          "data": {
            "image/png": "[encoded data removed]",
            "text/plain": [
              "<Figure size 640x480 with 1 Axes>"
            ]
          },
          "metadata": {},
          "output_type": "display_data"
        }
      ],
      "source": [
        "#User rating of the movie “Toy Story”\n",
        "\n",
        "res = df_1[df_1.Title == \"Only You (1994)\"]\n",
        "\n",
        "plt.plot(res.groupby(\"Age\")[\"MovieID\"].count(),'--bo')\n",
        "res.groupby(\"Age\")[\"MovieID\"].count()"
      ]
    },
    {
      "cell_type": "code",
      "execution_count": 19,
      "metadata": {
        "colab": {
          "base_uri": "https://localhost:8080/",
          "height": 430
        },
        "id": "loaa_ovqnHCV",
        "outputId": "aa3823cb-e985-4b32-af22-33c2a9ca2456"
      },
      "outputs": [
        {
          "data": {
            "image/png": "[encoded data removed]",
            "text/plain": [
              "<Figure size 640x480 with 1 Axes>"
            ]
          },
          "metadata": {},
          "output_type": "display_data"
        }
      ],
      "source": [
        "res = df_1[df_1.UserID == 700]\n",
        "\n",
        "plt.scatter(y=res.Title, x=res.Ratings , color = 'aqua')\n",
        "plt.show()"
      ]
    },
    {
      "cell_type": "markdown",
      "metadata": {
        "id": "De1zUztrW3sH"
      },
      "source": [
        "# Machine Learning"
      ]
    },
    {
      "cell_type": "code",
      "execution_count": 20,
      "metadata": {
        "id": "AwbvlXAkW3N3"
      },
      "outputs": [],
      "source": [
        "#First 500 extracted records\n",
        "import warnings\n",
        "warnings.filterwarnings('ignore')\n",
        "\n",
        "first_500 = df[500:]\n",
        "first_500.dropna(inplace=True)"
      ]
    },
    {
      "cell_type": "code",
      "execution_count": 21,
      "metadata": {
        "id": "YQcSSU9bn0NM"
      },
      "outputs": [],
      "source": [
        "# #First 500 extracted records\n",
        "# import warnings\n",
        "# warnings.filterwarnings('ignore')\n",
        "\n",
        "# f_500 = df_1[500:]\n",
        "# f_500.dropna(inplace=True)"
      ]
    },
    {
      "cell_type": "code",
      "execution_count": 22,
      "metadata": {
        "id": "_IT-DhceXHXP"
      },
      "outputs": [],
      "source": [
        "#Use the following features:movie id,age,occupation\n",
        "features = first_500[['MovieID','Age','Occupation']].values\n",
        "\n",
        "#Use rating as label\n",
        "labels = first_500[['Ratings']].values"
      ]
    },
    {
      "cell_type": "code",
      "execution_count": 23,
      "metadata": {
        "id": "UQ8AeRk3n7Td"
      },
      "outputs": [],
      "source": [
        "# #Use the following features:movie id,age,occupation\n",
        "# features_1 = f_500[['MovieID','Age','Occupation']].values\n",
        "\n",
        "# #Use rating as label\n",
        "# labels_1 = f_500[['Ratings']].values"
      ]
    },
    {
      "cell_type": "code",
      "execution_count": 24,
      "metadata": {
        "id": "T2I4COa7XMOi"
      },
      "outputs": [],
      "source": [
        "#Create train and test data set\n",
        "train, test, train_labels, test_labels = train_test_split(features, labels, test_size=0.33, random_state=42)"
      ]
    },
    {
      "cell_type": "code",
      "execution_count": 25,
      "metadata": {
        "id": "tFQoN1RJoQPO"
      },
      "outputs": [],
      "source": [
        "# train_1, test_1, train_labels_1, test_labels_1 = train_test_split(features_1, labels_1, test_size=0.33, random_state=42)"
      ]
    },
    {
      "cell_type": "markdown",
      "metadata": {
        "id": "ge73xztasLW0"
      },
      "source": [
        "# Machine Learning Models"
      ]
    },
    {
      "cell_type": "markdown",
      "metadata": {
        "id": "jh8zdcDrXc2I"
      },
      "source": [
        "Logistic Regression"
      ]
    },
    {
      "cell_type": "code",
      "execution_count": 26,
      "metadata": {
        "colab": {
          "base_uri": "https://localhost:8080/"
        },
        "id": "nAb6ENsXXfbS",
        "outputId": "eede4e7c-16de-4eca-ce77-0cb901477558"
      },
      "outputs": [
        {
          "data": {
            "text/plain": [
              "33.82"
            ]
          },
          "execution_count": 26,
          "metadata": {},
          "output_type": "execute_result"
        }
      ],
      "source": [
        "logreg = LogisticRegression()\n",
        "logreg.fit(train, train_labels)\n",
        "Y_pred = logreg.predict(test)\n",
        "acc_log = round(logreg.score(train, train_labels) * 100, 2)\n",
        "acc_log"
      ]
    },
    {
      "cell_type": "code",
      "execution_count": 27,
      "metadata": {
        "colab": {
          "base_uri": "https://localhost:8080/"
        },
        "id": "Cam6dNyYood8",
        "outputId": "824dcfbf-3dec-4960-f319-e813ed268e03"
      },
      "outputs": [],
      "source": [
        "# logreg_1 = LogisticRegression()\n",
        "# logreg_1.fit(train_1, train_labels_1)\n",
        "# Y_pred_1 = logreg_1.predict(test_1)\n",
        "# acc_log_1 = round(logreg_1.score(train_1, train_labels_1) * 100, 2)\n",
        "# acc_log_1"
      ]
    },
    {
      "cell_type": "markdown",
      "metadata": {
        "id": "u0VRVGXbYCWK"
      },
      "source": [
        "Decision Tree"
      ]
    },
    {
      "cell_type": "code",
      "execution_count": 28,
      "metadata": {
        "colab": {
          "base_uri": "https://localhost:8080/"
        },
        "id": "2jU-pMLSYCoq",
        "outputId": "68fba465-642f-43c2-c2f7-60666113ff77"
      },
      "outputs": [
        {
          "data": {
            "text/plain": [
              "100.0"
            ]
          },
          "execution_count": 28,
          "metadata": {},
          "output_type": "execute_result"
        }
      ],
      "source": [
        "# Decision Tree\n",
        "\n",
        "decision_tree = DecisionTreeClassifier()\n",
        "decision_tree.fit(train, train_labels)\n",
        "Y_pred = decision_tree.predict(test)\n",
        "acc_decision_tree = round(decision_tree.score(train, train_labels) * 100, 2)\n",
        "acc_decision_tree"
      ]
    },
    {
      "cell_type": "code",
      "execution_count": 29,
      "metadata": {
        "colab": {
          "base_uri": "https://localhost:8080/"
        },
        "id": "F8WhclGWo9Tz",
        "outputId": "719a6b3b-8ffa-410c-9e8d-0479fec399ed"
      },
      "outputs": [],
      "source": [
        "# decision_tree_1 = DecisionTreeClassifier()\n",
        "# decision_tree_1.fit(train_1, train_labels_1)\n",
        "# Y_pred_1 = decision_tree_1.predict(test_1)\n",
        "# acc_decision_tree_1 = round(decision_tree_1.score(train_1, train_labels_1) * 100, 2)\n",
        "# acc_decision_tree_1"
      ]
    },
    {
      "cell_type": "markdown",
      "metadata": {
        "id": "KeFOHOfOYN4f"
      },
      "source": [
        "Random Forest"
      ]
    },
    {
      "cell_type": "code",
      "execution_count": 30,
      "metadata": {
        "colab": {
          "base_uri": "https://localhost:8080/"
        },
        "id": "4bX15v7qYOKH",
        "outputId": "049ca649-484e-4e2e-f36b-d7534420fdd6"
      },
      "outputs": [
        {
          "data": {
            "text/plain": [
              "100.0"
            ]
          },
          "execution_count": 30,
          "metadata": {},
          "output_type": "execute_result"
        }
      ],
      "source": [
        "# Random Forest\n",
        "\n",
        "random_forest = RandomForestClassifier(n_estimators=100)\n",
        "random_forest.fit(train, train_labels)\n",
        "Y_pred = random_forest.predict(test)\n",
        "random_forest.score(train, train_labels)\n",
        "acc_random_forest = round(random_forest.score(train, train_labels) * 100, 2)\n",
        "acc_random_forest"
      ]
    },
    {
      "cell_type": "code",
      "execution_count": 31,
      "metadata": {
        "colab": {
          "base_uri": "https://localhost:8080/"
        },
        "id": "_pjOJdSVqUJ0",
        "outputId": "729e5891-1d3c-4dcb-d230-b790aae381b1"
      },
      "outputs": [],
      "source": [
        "# random_forest_1 = RandomForestClassifier(n_estimators=100)\n",
        "# random_forest_1.fit(train_1, train_labels_1)\n",
        "# Y_pred = random_forest_1.predict(test_1)\n",
        "# random_forest_1.score(train_1, train_labels_1)\n",
        "# acc_random_forest_1 = round(random_forest_1.score(train_1, train_labels_1) * 100, 2)\n",
        "# acc_random_forest_1"
      ]
    },
    {
      "cell_type": "markdown",
      "metadata": {
        "id": "CKU_W9kTXubf"
      },
      "source": [
        "K-Nearest Neighbors Classifier"
      ]
    },
    {
      "cell_type": "code",
      "execution_count": 32,
      "metadata": {
        "colab": {
          "base_uri": "https://localhost:8080/"
        },
        "id": "6pvYhCc2Xysx",
        "outputId": "50f41424-3865-47d5-d89a-a7e2769202d7"
      },
      "outputs": [
        {
          "data": {
            "text/plain": [
              "60.53"
            ]
          },
          "execution_count": 32,
          "metadata": {},
          "output_type": "execute_result"
        }
      ],
      "source": [
        "# K Nearest Neighbors Classifier\n",
        "\n",
        "knn = KNeighborsClassifier(n_neighbors = 3)\n",
        "knn.fit(train, train_labels)\n",
        "Y_pred = knn.predict(test)\n",
        "acc_knn = round(knn.score(train, train_labels) * 100, 2)\n",
        "acc_knn"
      ]
    },
    {
      "cell_type": "code",
      "execution_count": 33,
      "metadata": {
        "colab": {
          "base_uri": "https://localhost:8080/"
        },
        "id": "j8pZVWpfqxRy",
        "outputId": "8377695b-0e38-4bea-aec6-4963aba7bd90"
      },
      "outputs": [],
      "source": [
        "# knn = KNeighborsClassifier(n_neighbors = 3)\n",
        "# knn.fit(train_1, train_labels_1)\n",
        "# Y_pred = knn.predict(test_1)\n",
        "# acc_knn_1 = round(knn.score(train_1, train_labels_1) * 100, 2)\n",
        "# acc_knn_1"
      ]
    },
    {
      "cell_type": "markdown",
      "metadata": {
        "id": "vb7gdrCGX0RM"
      },
      "source": [
        "Gaussian Naive Bayes"
      ]
    },
    {
      "cell_type": "code",
      "execution_count": 34,
      "metadata": {
        "colab": {
          "base_uri": "https://localhost:8080/"
        },
        "id": "4of1606_X0gs",
        "outputId": "b3966ed7-f114-4650-c392-2d934da1aac9"
      },
      "outputs": [
        {
          "data": {
            "text/plain": [
              "35.01"
            ]
          },
          "execution_count": 34,
          "metadata": {},
          "output_type": "execute_result"
        }
      ],
      "source": [
        "# Gaussian Naive Bayes\n",
        "\n",
        "gaussian = GaussianNB()\n",
        "gaussian.fit(train, train_labels)\n",
        "Y_pred = gaussian.predict(test)\n",
        "acc_gaussian = round(gaussian.score(train, train_labels) * 100, 2)\n",
        "acc_gaussian"
      ]
    },
    {
      "cell_type": "markdown",
      "metadata": {
        "id": "r_YU-xjQXgaK"
      },
      "source": [
        "Support Vector Machine"
      ]
    },
    {
      "cell_type": "code",
      "execution_count": 35,
      "metadata": {
        "colab": {
          "base_uri": "https://localhost:8080/"
        },
        "id": "dlE3m2kRXmmT",
        "outputId": "dbc17192-8730-441e-bce8-c7d174192a10"
      },
      "outputs": [
        {
          "data": {
            "text/plain": [
              "34.61"
            ]
          },
          "execution_count": 35,
          "metadata": {},
          "output_type": "execute_result"
        }
      ],
      "source": [
        "# Support Vector Machines\n",
        "\n",
        "svc = SVC()\n",
        "svc.fit(train, train_labels)\n",
        "Y_pred = svc.predict(test)\n",
        "acc_svc = round(svc.score(train, train_labels) * 100, 2)\n",
        "acc_svc"
      ]
    },
    {
      "cell_type": "markdown",
      "metadata": {
        "id": "WwO7CezvYZTE"
      },
      "source": [
        "Perceptron"
      ]
    },
    {
      "cell_type": "code",
      "execution_count": 36,
      "metadata": {
        "colab": {
          "base_uri": "https://localhost:8080/"
        },
        "id": "sD54_C2zYZ88",
        "outputId": "00fbe47a-204e-4764-bf3b-f36adb97cc4f"
      },
      "outputs": [
        {
          "data": {
            "text/plain": [
              "31.66"
            ]
          },
          "execution_count": 36,
          "metadata": {},
          "output_type": "execute_result"
        }
      ],
      "source": [
        "# Perceptron\n",
        "\n",
        "perceptron = Perceptron()\n",
        "perceptron.fit(train, train_labels)\n",
        "Y_pred = perceptron.predict(test)\n",
        "acc_perceptron = round(perceptron.score(train, train_labels) * 100, 2)\n",
        "acc_perceptron"
      ]
    },
    {
      "cell_type": "markdown",
      "metadata": {
        "id": "OsLH2CEWX2Q0"
      },
      "source": [
        "Stochastic Gradient Descent"
      ]
    },
    {
      "cell_type": "code",
      "execution_count": 37,
      "metadata": {
        "colab": {
          "base_uri": "https://localhost:8080/"
        },
        "id": "kzDo7F1pX3OW",
        "outputId": "a0d2a91f-073d-43ae-a43f-1d885076f63e"
      },
      "outputs": [
        {
          "data": {
            "text/plain": [
              "12.1"
            ]
          },
          "execution_count": 37,
          "metadata": {},
          "output_type": "execute_result"
        }
      ],
      "source": [
        "# Stochastic Gradient Descent\n",
        "\n",
        "sgd = SGDClassifier()\n",
        "sgd.fit(train, train_labels)\n",
        "Y_pred = sgd.predict(test)\n",
        "acc_sgd = round(sgd.score(train, train_labels) * 100, 2)\n",
        "acc_sgd"
      ]
    },
    {
      "cell_type": "code",
      "execution_count": 38,
      "metadata": {
        "colab": {
          "base_uri": "https://localhost:8080/",
          "height": 300
        },
        "id": "ZfaVIAeNX36d",
        "outputId": "9c8f79c3-e8b7-40e9-86c5-122be7e78ad6"
      },
      "outputs": [
        {
          "data": {
            "text/html": [
              "<div>\n",
              "<style scoped>\n",
              "    .dataframe tbody tr th:only-of-type {\n",
              "        vertical-align: middle;\n",
              "    }\n",
              "\n",
              "    .dataframe tbody tr th {\n",
              "        vertical-align: top;\n",
              "    }\n",
              "\n",
              "    .dataframe thead th {\n",
              "        text-align: right;\n",
              "    }\n",
              "</style>\n",
              "<table border=\"1\" class=\"dataframe\">\n",
              "  <thead>\n",
              "    <tr style=\"text-align: right;\">\n",
              "      <th></th>\n",
              "      <th>Model</th>\n",
              "      <th>Score</th>\n",
              "    </tr>\n",
              "  </thead>\n",
              "  <tbody>\n",
              "    <tr>\n",
              "      <th>1</th>\n",
              "      <td>Decision Tree</td>\n",
              "      <td>100.00</td>\n",
              "    </tr>\n",
              "    <tr>\n",
              "      <th>2</th>\n",
              "      <td>Random Forest</td>\n",
              "      <td>100.00</td>\n",
              "    </tr>\n",
              "    <tr>\n",
              "      <th>3</th>\n",
              "      <td>KNN</td>\n",
              "      <td>60.53</td>\n",
              "    </tr>\n",
              "    <tr>\n",
              "      <th>4</th>\n",
              "      <td>Naive Bayes</td>\n",
              "      <td>35.01</td>\n",
              "    </tr>\n",
              "    <tr>\n",
              "      <th>5</th>\n",
              "      <td>Support Vector Machines</td>\n",
              "      <td>34.61</td>\n",
              "    </tr>\n",
              "    <tr>\n",
              "      <th>0</th>\n",
              "      <td>Logistic Regression</td>\n",
              "      <td>33.82</td>\n",
              "    </tr>\n",
              "    <tr>\n",
              "      <th>6</th>\n",
              "      <td>Perceptron</td>\n",
              "      <td>31.66</td>\n",
              "    </tr>\n",
              "    <tr>\n",
              "      <th>7</th>\n",
              "      <td>Stochastic Gradient Decent</td>\n",
              "      <td>12.10</td>\n",
              "    </tr>\n",
              "  </tbody>\n",
              "</table>\n",
              "</div>"
            ],
            "text/plain": [
              "                        Model   Score\n",
              "1               Decision Tree  100.00\n",
              "2               Random Forest  100.00\n",
              "3                         KNN   60.53\n",
              "4                 Naive Bayes   35.01\n",
              "5     Support Vector Machines   34.61\n",
              "0         Logistic Regression   33.82\n",
              "6                  Perceptron   31.66\n",
              "7  Stochastic Gradient Decent   12.10"
            ]
          },
          "execution_count": 38,
          "metadata": {},
          "output_type": "execute_result"
        }
      ],
      "source": [
        "models = pd.DataFrame({\n",
        "    'Model': ['Logistic Regression', 'Decision Tree', 'Random Forest', 'KNN',\n",
        "              'Naive Bayes', 'Support Vector Machines', 'Perceptron', 'Stochastic Gradient Decent'],\n",
        "    'Score': [acc_log, acc_decision_tree, acc_random_forest, acc_knn, acc_gaussian, acc_svc, acc_perceptron,\n",
        "              acc_sgd]})\n",
        "models.sort_values(by='Score', ascending=False)"
      ]
    }
  ],
  "metadata": {
    "colab": {
      "authorship_tag": "ABX9TyNq6HHM/6oEssE4/Ci0SfyV",
      "include_colab_link": true,
      "provenance": []
    },
    "kernelspec": {
      "display_name": "Python 3",
      "name": "python3"
    },
    "language_info": {
      "codemirror_mode": {
        "name": "ipython",
        "version": 3
      },
      "file_extension": ".py",
      "mimetype": "text/x-python",
      "name": "python",
      "nbconvert_exporter": "python",
      "pygments_lexer": "ipython3",
      "version": "3.11.2"
    }
  },
  "nbformat": 4,
  "nbformat_minor": 0
}
